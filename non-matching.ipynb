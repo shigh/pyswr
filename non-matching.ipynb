{
 "metadata": {
  "name": ""
 },
 "nbformat": 3,
 "nbformat_minor": 0,
 "worksheets": [
  {
   "cells": [
    {
     "cell_type": "code",
     "collapsed": false,
     "input": [
      "%pylab inline"
     ],
     "language": "python",
     "metadata": {},
     "outputs": [
      {
       "output_type": "stream",
       "stream": "stdout",
       "text": [
        "Populating the interactive namespace from numpy and matplotlib\n"
       ]
      }
     ],
     "prompt_number": 1
    },
    {
     "cell_type": "code",
     "collapsed": false,
     "input": [
      "%load_ext autoreload\n",
      "%autoreload 2"
     ],
     "language": "python",
     "metadata": {},
     "outputs": [],
     "prompt_number": 2
    },
    {
     "cell_type": "code",
     "collapsed": false,
     "input": [
      "import numpy as np\n",
      "from region import *\n",
      "from recursive import *\n",
      "from utils import *\n",
      "import scipy.sparse as sparse\n",
      "import scipy.sparse.linalg as splinalg\n",
      "import matplotlib.pyplot as plt\n",
      "from mpl_toolkits.mplot3d import axes3d"
     ],
     "language": "python",
     "metadata": {},
     "outputs": [],
     "prompt_number": 3
    },
    {
     "cell_type": "markdown",
     "metadata": {},
     "source": [
      "Keep the same nx, vary nt"
     ]
    },
    {
     "cell_type": "code",
     "collapsed": false,
     "input": [
      "nt_1 = 5\n",
      "nt_2 = 10\n",
      "nx = 20\n",
      "x_max = 4.*np.pi\n",
      "dt_1 = 1./(nt_1-1)\n",
      "dx = x_max/(nx-1)\n",
      "\n",
      "x0_full  = np.linspace(0, x_max, nx)\n",
      "f0_full  = np.sin(x0_full)\n",
      "expected = np.exp(-1.)*f0_full\n",
      "n_reg  = 2\n",
      "f_vals = region_views(f0_full, n_reg, 0) \n",
      "x_vals = region_views(x0_full, n_reg, 0)"
     ],
     "language": "python",
     "metadata": {},
     "outputs": [],
     "prompt_number": 4
    },
    {
     "cell_type": "code",
     "collapsed": false,
     "input": [
      "# Number of iterations\n",
      "N = 20\n",
      "\n",
      "# Build solvers\n",
      "solvers = [ImplicitSolver1DRec(dt, len(f_vals[i]), dx, i>0, i<n_reg-1)\n",
      "           for i in range(n_reg)]\n",
      "\n",
      "# Build regions\n",
      "regions = [RecRegion(nt, len(s.x)) for s in solvers]\n",
      "for r, f in zip(regions, f_vals):\n",
      "        r.slices[0][:] = f\n",
      "        \n",
      "for i in range(N):\n",
      "    \n",
      "    # Reset solvers for next iteration\n",
      "    for s, r in zip(solvers, regions):\n",
      "        s.x[:] = r.slices[0]\n",
      "    \n",
      "    # Apply solvers over each time step\n",
      "    for t in range(1, nt):\n",
      "        for s, r in zip(solvers, regions):\n",
      "            s.g = [r.g[0][0][t], r.g[0][-1][t]]\n",
      "            s.solve()\n",
      "            r.update_cols(t, s.x)\n",
      "        \n",
      "    # Update g values\n",
      "    for j in range(n_reg):\n",
      "        s = solvers[j]\n",
      "        r = regions[j]\n",
      "        if s.has_right:\n",
      "            r.g[0][-1] = regions[j+1].send_g(0, 0)\n",
      "        if s.has_left:\n",
      "            r.g[0][0]  = regions[j-1].send_g(0, -1)"
     ],
     "language": "python",
     "metadata": {},
     "outputs": [
      {
       "ename": "NameError",
       "evalue": "name 'dt' is not defined",
       "output_type": "pyerr",
       "traceback": [
        "\u001b[1;31m---------------------------------------------------------------------------\u001b[0m\n\u001b[1;31mNameError\u001b[0m                                 Traceback (most recent call last)",
        "\u001b[1;32m<ipython-input-5-64b66c6a67ac>\u001b[0m in \u001b[0;36m<module>\u001b[1;34m()\u001b[0m\n\u001b[0;32m      4\u001b[0m \u001b[1;31m# Build solvers\u001b[0m\u001b[1;33m\u001b[0m\u001b[1;33m\u001b[0m\u001b[0m\n\u001b[0;32m      5\u001b[0m solvers = [ImplicitSolver1DRec(dt, len(f_vals[i]), dx, i>0, i<n_reg-1)\n\u001b[1;32m----> 6\u001b[1;33m            for i in range(n_reg)]\n\u001b[0m\u001b[0;32m      7\u001b[0m \u001b[1;33m\u001b[0m\u001b[0m\n\u001b[0;32m      8\u001b[0m \u001b[1;31m# Build regions\u001b[0m\u001b[1;33m\u001b[0m\u001b[1;33m\u001b[0m\u001b[0m\n",
        "\u001b[1;31mNameError\u001b[0m: name 'dt' is not defined"
       ]
      }
     ],
     "prompt_number": 5
    },
    {
     "cell_type": "code",
     "collapsed": false,
     "input": [
      "plot(x0_full, expected)\n",
      "for x, s in zip(x_vals, solvers):\n",
      "    plot(x, s.x)"
     ],
     "language": "python",
     "metadata": {},
     "outputs": []
    },
    {
     "cell_type": "code",
     "collapsed": false,
     "input": [],
     "language": "python",
     "metadata": {},
     "outputs": []
    }
   ],
   "metadata": {}
  }
 ]
}