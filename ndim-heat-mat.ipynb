{
 "metadata": {
  "name": ""
 },
 "nbformat": 3,
 "nbformat_minor": 0,
 "worksheets": [
  {
   "cells": [
    {
     "cell_type": "code",
     "collapsed": false,
     "input": [
      "%matplotlib inline"
     ],
     "language": "python",
     "metadata": {},
     "outputs": [],
     "prompt_number": 1
    },
    {
     "cell_type": "code",
     "collapsed": false,
     "input": [
      "import numpy as np\n",
      "import scipy.sparse as sparse\n",
      "import scipy.sparse.linalg as splinalg\n",
      "import matplotlib.pyplot as plt\n",
      "from mpl_toolkits.mplot3d import axes3d\n",
      "from utils import *"
     ],
     "language": "python",
     "metadata": {},
     "outputs": [],
     "prompt_number": 2
    },
    {
     "cell_type": "code",
     "collapsed": false,
     "input": [
      "def norm_diff(expected, x):\n",
      "    # Do not use anything other than inf norm so\n",
      "    # that it makes sense to compare these across\n",
      "    # different grid sizes\n",
      "    return np.max(np.abs(expected-x))"
     ],
     "language": "python",
     "metadata": {},
     "outputs": [],
     "prompt_number": 3
    },
    {
     "cell_type": "markdown",
     "metadata": {},
     "source": [
      "## 2D Heat Equation BTCS"
     ]
    },
    {
     "cell_type": "markdown",
     "metadata": {},
     "source": [
      "### Test"
     ]
    },
    {
     "cell_type": "code",
     "collapsed": false,
     "input": [
      "x_range = (0., 3*np.pi)\n",
      "y_range = (0., 3*np.pi)\n",
      "t_range = (0., 1.)\n",
      "\n",
      "def get_deltas(nt, ny, nx):\n",
      "    return [(r[1]-r[0])/(n-1) for r, n\n",
      "            in zip([t_range, y_range, x_range], [nt, ny, nx])]\n",
      "\n",
      "def get_init_vals(ny, nx):\n",
      "    x_vals = np.linspace(x_range[0], x_range[1], nx)\n",
      "    y_vals = np.linspace(y_range[0], y_range[1], ny)\n",
      "    X, Y = np.meshgrid(x_vals, y_vals)\n",
      "    \n",
      "    return np.sin(X)*np.sin(Y)\n",
      "    \n",
      "def get_expected_vals(ny, nx):\n",
      "\n",
      "    return get_init_vals(ny, nx)*np.exp(-2*t_range[1])\n"
     ],
     "language": "python",
     "metadata": {},
     "outputs": [],
     "prompt_number": 4
    },
    {
     "cell_type": "code",
     "collapsed": false,
     "input": [
      "nt_vals = [100, 200, 300, 500]\n",
      "nt_errs = []\n",
      "for nt in nt_vals:\n",
      "    nx = 100\n",
      "    ny = 100\n",
      "    #nt = 200\n",
      "    dt, dy, dx = get_deltas(nt, ny, nx)\n",
      "    A = two_d_heat_btcs(dt, ny, dy, nx, dx)\n",
      "    x = get_init_vals(ny, nx).flatten()\n",
      "    tmp = np.zeros_like(x)\n",
      "\n",
      "    for i in range(nt-1):\n",
      "        tmp[:] = splinalg.spsolve(A, x)\n",
      "        x[:] = tmp\n",
      "    \n",
      "    x = x.reshape((ny, nx))\n",
      "    expected = get_expected_vals(ny, nx)\n",
      "    nt_errs.append(norm_diff(expected, x))\n",
      "    \n",
      "plt.plot(nt_vals, -np.log2(nt_errs))"
     ],
     "language": "python",
     "metadata": {},
     "outputs": [
      {
       "metadata": {},
       "output_type": "pyout",
       "prompt_number": 5,
       "text": [
        "[<matplotlib.lines.Line2D at 0x442d050>]"
       ]
      },
      {
       "metadata": {},
       "output_type": "display_data",
       "png": "[encoded data removed]",
       "text": [
        "<matplotlib.figure.Figure at 0x4421850>"
       ]
      }
     ],
     "prompt_number": 5
    },
    {
     "cell_type": "code",
     "collapsed": false,
     "input": [
      "#nxy_vals = [100, 200, 300, 500]\n",
      "nxy_vals = []\n",
      "nxy_errs = []\n",
      "for nxy in nxy_vals:\n",
      "    nx = ny = nxy\n",
      "    nt = 100\n",
      "    dt, dy, dx = get_deltas(nt, ny, nx)\n",
      "    A = two_d_heat_btcs(dt, ny, dy, nx, dx)\n",
      "    x = get_init_vals(ny, nx).flatten()\n",
      "    tmp = np.zeros_like(x)\n",
      "\n",
      "    for i in range(nt-1):\n",
      "        tmp[:] = splinalg.spsolve(A, x)\n",
      "        x[:] = tmp\n",
      "    \n",
      "    x = x.reshape((ny, nx))\n",
      "    expected = get_expected_vals(ny, nx)\n",
      "    nxy_errs.append(norm_diff(expected, x))\n",
      "    \n",
      "#plt.plot(nxy_vals, nxy_errs)"
     ],
     "language": "python",
     "metadata": {},
     "outputs": [],
     "prompt_number": 6
    },
    {
     "cell_type": "code",
     "collapsed": false,
     "input": [
      "# Why does taking one extra step make such a big difference???\n",
      "nxy_vals = [100, 200, 300]\n",
      "nxy_errs = []\n",
      "for nxy in nxy_vals:\n",
      "    nx = ny = nxy\n",
      "    nt = 100\n",
      "    dt, dy, dx = get_deltas(nt, ny, nx)\n",
      "    A = two_d_heat_btcs(dt, ny, dy, nx, dx)\n",
      "    x = get_init_vals(ny, nx).flatten()\n",
      "    tmp = np.zeros_like(x)\n",
      "\n",
      "    for i in range(nt):\n",
      "        tmp[:] = splinalg.spsolve(A, x)\n",
      "        x[:] = tmp\n",
      "    \n",
      "    x = x.reshape((ny, nx))\n",
      "    expected = get_expected_vals(ny, nx)\n",
      "    nxy_errs.append(norm_diff(expected, x))\n",
      "    \n",
      "plt.plot(nxy_vals, -np.log2(nxy_errs))"
     ],
     "language": "python",
     "metadata": {},
     "outputs": [
      {
       "metadata": {},
       "output_type": "pyout",
       "prompt_number": 7,
       "text": [
        "[<matplotlib.lines.Line2D at 0x4623850>]"
       ]
      },
      {
       "metadata": {},
       "output_type": "display_data",
       "png": "[encoded data removed]",
       "text": [
        "<matplotlib.figure.Figure at 0x463fe90>"
       ]
      }
     ],
     "prompt_number": 7
    },
    {
     "cell_type": "code",
     "collapsed": false,
     "input": [
      "nx = 100\n",
      "ny = 100\n",
      "nt = 200\n",
      "dt, dy, dx = get_deltas(nt, ny, nx)\n",
      "A = two_d_heat_btcs(dt, ny, dy, nx, dx)\n",
      "x = get_init_vals(ny, nx).flatten()\n",
      "tmp = np.zeros_like(x)\n",
      "\n",
      "for i in range(nt-1):\n",
      "    tmp[:] = splinalg.spsolve(A, x)\n",
      "    x[:] = tmp\n",
      "    \n",
      "x = x.reshape((ny, nx))\n",
      "expected = get_expected_vals(ny, nx)\n",
      "\n",
      "print norm_diff(expected, x)"
     ],
     "language": "python",
     "metadata": {},
     "outputs": [
      {
       "output_type": "stream",
       "stream": "stdout",
       "text": [
        "0.00155885036566\n"
       ]
      }
     ],
     "prompt_number": 8
    },
    {
     "cell_type": "markdown",
     "metadata": {},
     "source": [
      "## 3D Heat Equation BTCS"
     ]
    },
    {
     "cell_type": "markdown",
     "metadata": {},
     "source": [
      "### Test"
     ]
    },
    {
     "cell_type": "code",
     "collapsed": false,
     "input": [
      "x_range = (0., 2*np.pi)\n",
      "y_range = (0., 2*np.pi)\n",
      "z_range = (0., 2*np.pi)\n",
      "t_range = (0., 1.)\n",
      "\n",
      "def get_deltas(nt, nz, ny, nx):\n",
      "    return [(r[1]-r[0])/(n-1) for r, n\n",
      "            in zip([t_range, z_range, y_range, x_range], [nt, nz, ny, nx])]\n",
      "\n",
      "def get_init_vals(nz, ny, nx):\n",
      "    x_vals = np.linspace(x_range[0], x_range[1], nx)\n",
      "    y_vals = np.linspace(y_range[0], y_range[1], ny)\n",
      "    z_vals = np.linspace(z_range[0], z_range[1], nz)\n",
      "    \n",
      "    iv = np.zeros((nz, ny, nx))\n",
      "    \n",
      "    for z in range(nz):\n",
      "        for y in range(ny):\n",
      "            for x in range(nx):\n",
      "                iv[z, y, x] = np.sin(z_vals[z])*np.sin(y_vals[y])*np.sin(x_vals[x])\n",
      "                \n",
      "    return iv\n",
      "    \n",
      "def get_expected_vals(nz, ny, nx):\n",
      "\n",
      "    return get_init_vals(nz, ny, nx)*np.exp(-3*t_range[1])"
     ],
     "language": "python",
     "metadata": {},
     "outputs": [],
     "prompt_number": 9
    },
    {
     "cell_type": "code",
     "collapsed": false,
     "input": [
      "nx = 20\n",
      "ny = 20\n",
      "nz = 20\n",
      "nt = 100\n",
      "\n",
      "dt, dz, dy, dx = get_deltas(nt, nz, ny, nx)\n",
      "A = three_d_heat_btcs(dt, nz, dz, ny, dy, nx, dx)\n",
      "x = get_init_vals(nz, ny, nx).flatten()\n",
      "tmp = np.zeros_like(x)\n",
      "\n",
      "for i in range(nt):\n",
      "    tmp[:] = splinalg.spsolve(A, x)\n",
      "    x[:] = tmp\n",
      "    \n",
      "x = x.reshape((nz, ny, nx))\n",
      "expected = get_expected_vals(nz, ny, nx)\n",
      "\n",
      "print norm_diff(expected, x)"
     ],
     "language": "python",
     "metadata": {},
     "outputs": [
      {
       "output_type": "stream",
       "stream": "stdout",
       "text": [
        "0.00208363896245\n"
       ]
      }
     ],
     "prompt_number": 10
    },
    {
     "cell_type": "code",
     "collapsed": false,
     "input": [],
     "language": "python",
     "metadata": {},
     "outputs": [],
     "prompt_number": 10
    }
   ],
   "metadata": {}
  }
 ]
}